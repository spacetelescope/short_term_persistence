{
 "cells": [
  {
   "cell_type": "markdown",
   "metadata": {},
   "source": [
    "# Notebook to normalize the persistenc ein externals, using the darks as reference points\n"
   ]
  },
  {
   "cell_type": "code",
   "execution_count": null,
   "metadata": {
    "collapsed": true
   },
   "outputs": [],
   "source": [
    "from astropy.io import fits\n",
    "import glob, os, shutil, pickle, bz2, gc\n",
    "import matplotlib.pyplot as plt\n",
    "import numpy as np\n",
    "import pandas as pd\n",
    "from scipy.stats import sigmaclip\n",
    "from scipy.optimize import curve_fit\n",
    "from scipy.special import gammaincc, gamma\n",
    "from astropy.wcs import WCS\n",
    "from astropy.stats import histogram\n",
    "from itertools import product\n",
    "from multiprocessing import Pool\n",
    "\n",
    "%matplotlib notebook"
   ]
  },
  {
   "cell_type": "code",
   "execution_count": null,
   "metadata": {},
   "outputs": [],
   "source": [
    "pwd"
   ]
  },
  {
   "cell_type": "code",
   "execution_count": null,
   "metadata": {
    "collapsed": true
   },
   "outputs": [],
   "source": [
    "#scsky = 2.75\n",
    "#skyrad_i = 6\n",
    "#skyrad_o = 15\n",
    "\n",
    "#suff = '_sig'+'{:05.2f}'.format(scsky) + '_ri' + '{:05.2f}'.format(skyrad_i) + '_ro' + '{:05.2f}'.format(skyrad_o)"
   ]
  },
  {
   "cell_type": "code",
   "execution_count": null,
   "metadata": {
    "collapsed": true
   },
   "outputs": [],
   "source": [
    "# The project dir \n",
    "pdir = '/user/gennaro/Functional_work/WFC3_persistence/py_progs/short_term_persistence/'\n",
    "\n",
    "#The mosaic dir\n",
    "mdir = pdir+'/Mosaic_hi_res_folder/'\n",
    "\n",
    "#The dir to save/load the Persistence curves dataframes\n",
    "sdir = pdir+'/PD_dataframes_dir/'\n"
   ]
  },
  {
   "cell_type": "code",
   "execution_count": null,
   "metadata": {},
   "outputs": [],
   "source": [
    "#Get all the exisitng computations for a given sky annulus (i.e. all existing sigma clipping leveles)\n",
    "\n",
    "skyrad_i = 6\n",
    "skyrad_o = 15\n",
    "\n",
    "suff = '_sig*_ri' + '{:05.2f}'.format(skyrad_i) + '_ro' + '{:05.2f}'.format(skyrad_o)\n",
    "\n",
    "filenames = sorted(glob.glob(sdir+'/Mean_res'+suff+'.pickle'))\n",
    "for f in filenames:\n",
    "    print(f)"
   ]
  },
  {
   "cell_type": "code",
   "execution_count": null,
   "metadata": {
    "collapsed": true
   },
   "outputs": [],
   "source": [
    "# Read all the results for different sigmas\n",
    "\n",
    "mean_res_sigmas = []\n",
    "for fn in filenames:\n",
    "    with open(fn, 'rb') as f:\n",
    "        mean_res_sigmas.append(pickle.load(f))\n"
   ]
  },
  {
   "cell_type": "code",
   "execution_count": null,
   "metadata": {
    "collapsed": true
   },
   "outputs": [],
   "source": [
    "# Read the file that contains the drak expsoure persistence measurements\n",
    "\n",
    "with open(sdir+'/Mean_res.pickle', 'rb') as f:\n",
    "    mean_res_drk = pickle.load(f)\n"
   ]
  },
  {
   "cell_type": "code",
   "execution_count": null,
   "metadata": {
    "scrolled": false
   },
   "outputs": [],
   "source": [
    "plt.style.use('bmh')\n",
    "plt.rcParams['font.family'] = 'Times New Roman'\n",
    "plt.rcParams['font.size'] = 13\n",
    "plt.rcParams['axes.labelsize'] = 13\n",
    "plt.rcParams['axes.labelweight'] = 'normal'\n",
    "plt.rcParams['xtick.labelsize'] = 11\n",
    "plt.rcParams['ytick.labelsize'] = 11\n",
    "plt.rcParams['legend.fontsize'] = 9\n",
    "plt.rcParams['figure.titlesize'] = 13\n",
    "\n",
    "ncols = 4\n",
    "nrows =  (len(mean_res_drk['levels'])-1) // ncols\n",
    "\n",
    "if ((len(mean_res_drk['levels'])-1) % ncols) > 0:\n",
    "    nrows = nrows+1\n",
    "\n",
    "fig, ax = plt.subplots(nrows, ncols, sharex=True, sharey=True, figsize=(5*ncols,3.5*nrows))\n",
    "\n",
    "\n",
    "name_to_plot = ['ALL 25_PEXT']\n",
    "\n",
    "\n",
    "for rr,mean_res in enumerate(mean_res_sigmas[5:]):\n",
    "\n",
    "    ind_to_plot = [mean_res['Readme'].index(name) for name in name_to_plot]\n",
    "\n",
    "    for i,(lev_dw,lev_up) in enumerate(zip(mean_res['levels'][0:-1],mean_res['levels'][1:])):\n",
    "\n",
    "        k = i%ncols\n",
    "        l = i//ncols\n",
    "\n",
    "        for mm,j in enumerate(ind_to_plot):\n",
    "            if 'PEXT' in name_to_plot[mm]:\n",
    "                mrk = 'o'\n",
    "                sz=12\n",
    "            else:\n",
    "                mrk = '*'\n",
    "                sz=30\n",
    "\n",
    "            if rr == 0:\n",
    "                ax[l,k].plot(mean_res['med_times'][i][j],mean_res['med_pers'][i][j],\n",
    "                         label='N: '+'{:3.1e}'.format(1.*np.sum(mean_res['Npoints'][i][j]))+' ; '+mean_res['Readme'][j],alpha=0.5)\n",
    "            else:\n",
    "                ax[l,k].plot(mean_res['med_times'][i][j],mean_res['med_pers'][i][j],alpha=0.5)\n",
    "\n",
    "\n",
    "\n",
    "\n",
    "    \n",
    "name_to_plot = []\n",
    "for mrd in mean_res_drk['Readme']:\n",
    "    \n",
    "    t1 = 'ALL' in mrd\n",
    "    t2 = '_PDRK' in mrd\n",
    "    \n",
    "    if t1&t2:\n",
    "        name_to_plot.append(mrd)\n",
    "    \n",
    "\n",
    "ind_to_plot = [mean_res_drk['Readme'].index(name) for name in name_to_plot]\n",
    "    \n",
    "for i,(lev_dw,lev_up) in enumerate(zip(mean_res_drk['levels'][0:-1],mean_res_drk['levels'][1:])):\n",
    "   \n",
    "    k = i%ncols\n",
    "    l = i//ncols\n",
    "       \n",
    "    for mm,j in enumerate(ind_to_plot):\n",
    "        if 'PEXT' in name_to_plot[mm]:\n",
    "            mrk = 'o'\n",
    "            sz=12\n",
    "        else:\n",
    "            mrk = '*'\n",
    "            sz=100\n",
    "                        \n",
    "        ax[l,k].scatter(mean_res_drk['med_times'][i][j],mean_res_drk['med_pers'][i][j],\n",
    "                     label='N: '+'{:3.1e}'.format(1.*np.sum(mean_res_drk['Npoints'][i][j]))+' ; '+mean_res_drk['Readme'][j],s=sz, marker=mrk)\n",
    "        \n",
    "        \n",
    "    \n",
    "    ax[l,k].set_xscale('log')\n",
    "    ax[l,k].set_yscale('log')\n",
    "    meanlev = 0.5*(mean_res_drk['levels'][i]+mean_res_drk['levels'][i+1])\n",
    "    titlestring = 'I:'+'{:d}, '.format(i)+'Log$_{10}$ (Stim.[e$^{-}$]): ' + '{:5.2f}'.format(meanlev) + '; ' + '{:6.2f}'.format(10**meanlev/80000.) +' x saturation' \n",
    "    ax[l,k].text(0.25,0.875,titlestring,verticalalignment='bottom', horizontalalignment='left',transform=ax[l,k].transAxes,bbox={'facecolor':'gray', 'alpha':.1, 'pad':1},fontsize=11)\n",
    "    ax[l,k].legend(fontsize=9,loc=3)\n",
    "    ax[l,k].set_ylim(0.009,15)\n",
    "    ax[l,k].set_xlim(60,2000)\n",
    "    ax[l,k].plot(np.array([1,10000]),700*np.array([1,1/10000.]),'--',c='black')\n",
    "\n",
    "    if l==(nrows-1):\n",
    "        ax[l,k].set_xlabel('Time [s]',fontsize=15)\n",
    "    if k==0:\n",
    "        ax[l,k].set_ylabel('Mean current [e$^{-}$/s]',fontsize=15)\n",
    "    ax[l,k].set_axis_bgcolor('#FFFFFF')\n",
    "\n",
    "    \n",
    "\n",
    "plt.tight_layout(pad=.2)\n",
    "\n"
   ]
  },
  {
   "cell_type": "code",
   "execution_count": null,
   "metadata": {
    "collapsed": true
   },
   "outputs": [],
   "source": [
    "# A is the prediction at 1000 seconds\n",
    "\n",
    "def intshpwl(t,A,index,t0=0.):\n",
    "    tu = t[1:]\n",
    "    td = t[:-1]\n",
    "\n",
    "    if (index == -1.):\n",
    "        return A*np.log( (tu+t0)/(td+t0) )\n",
    "    else:\n",
    "        return A/(1+index) * ( ((tu+t0)/1000)**(1+index) - ((td+t0)/1000)**(1+index) )#/(tu-td)\n"
   ]
  },
  {
   "cell_type": "code",
   "execution_count": null,
   "metadata": {},
   "outputs": [],
   "source": [
    "name_to_fit = name_to_plot\n",
    "ind_to_fit = ind_to_plot\n",
    "intervals = [25.,100.,2.9,12.5,50]\n",
    "\n",
    "for n,i,it in zip(name_to_fit,intervals,ind_to_fit):\n",
    "    print(n,i,it)\n"
   ]
  },
  {
   "cell_type": "code",
   "execution_count": null,
   "metadata": {
    "collapsed": true
   },
   "outputs": [],
   "source": [
    "def Agamma_predictions(pars,ilev,thr=500.):\n",
    "\n",
    "    residuals = []\n",
    "    for j,i2f in enumerate(ind_to_fit):\n",
    "        ct = mean_res_drk['med_times'][ilev][i2f]\n",
    "        pers = mean_res_drk['med_pers'][ilev][i2f]\n",
    "        \n",
    "        semi_int = 0.5*intervals[j]\n",
    "        for c,p in zip(ct,pers):\n",
    "            if (c < thr):\n",
    "                t = np.array([c-semi_int,c+semi_int])\n",
    "                mod_pred = intshpwl(t,pars[0],pars[1])/(2*semi_int)\n",
    "            \n",
    "                #print(t,A,index,mod_pred)\n",
    "                residuals.append(np.square(mod_pred-p))\n",
    "\n",
    "    return np.sum(residuals)\n",
    "    \n",
    "\n",
    "        "
   ]
  },
  {
   "cell_type": "code",
   "execution_count": null,
   "metadata": {},
   "outputs": [],
   "source": [
    "intshpwl(np.array([250-50,250+50]),500,-1.)/(100)"
   ]
  },
  {
   "cell_type": "code",
   "execution_count": null,
   "metadata": {
    "collapsed": true
   },
   "outputs": [],
   "source": [
    "from scipy.optimize import minimize\n",
    "\n",
    "plt.style.use('bmh')\n",
    "plt.rcParams['font.family'] = 'Times New Roman'\n",
    "plt.rcParams['font.size'] = 13\n",
    "plt.rcParams['axes.labelsize'] = 13\n",
    "plt.rcParams['axes.labelweight'] = 'normal'\n",
    "plt.rcParams['xtick.labelsize'] = 11\n",
    "plt.rcParams['ytick.labelsize'] = 11\n",
    "plt.rcParams['legend.fontsize'] = 9\n",
    "plt.rcParams['figure.titlesize'] = 13"
   ]
  },
  {
   "cell_type": "code",
   "execution_count": null,
   "metadata": {
    "scrolled": false
   },
   "outputs": [],
   "source": [
    "fig, ax = plt.subplots(len(mean_res_drk['levels'])-1,len(ind_to_fit), figsize=(3.75*len(ind_to_fit),3.5*(len(mean_res_drk['levels'])-1)))\n",
    "\n",
    "for ilev in range(len(mean_res_drk['levels'])-1):\n",
    "\n",
    "    meanlev = 0.5*(mean_res_drk['levels'][ilev]+mean_res_drk['levels'][ilev+1])\n",
    "    \n",
    "\n",
    "    for w,(thr,col) in enumerate(zip([500,750,1000,2000],['red','orange','magenta','yellow'])):\n",
    "    \n",
    "        bfres = minimize(Agamma_predictions, np.array([2000,-.87]), args=(ilev,thr), method='Powell')\n",
    "\n",
    "        if(bfres['status'] == 0):\n",
    "            print('Best fit results for level {:6.2f} and fit time up to {:7.1f}'.format(10**meanlev/80000.,thr))\n",
    "            print(bfres['x'])\n",
    "        else:\n",
    "            print('Fit failed for level',meanlev,' fit time up to',thr)\n",
    "            \n",
    "            \n",
    "        for j,i2f in enumerate(ind_to_fit):\n",
    "\n",
    "            ct = mean_res_drk['med_times'][ilev][i2f]\n",
    "            pers = mean_res_drk['med_pers'][ilev][i2f]\n",
    "            semi_int = 0.5*intervals[j]\n",
    "            mod_pred = np.empty_like(pers)\n",
    "            \n",
    "            for k,(c,p) in enumerate(zip(ct,pers)):\n",
    "                t = np.array([c-semi_int,c+semi_int])\n",
    "                mod_pred[k] = intshpwl(t,bfres['x'][0],bfres['x'][1])/(2*semi_int)\n",
    "            \n",
    "            ax[ilev,j].plot(ct,mod_pred,'--',c=col)\n",
    "            ax[ilev,j].set_axis_bgcolor('#FFFFFF')\n",
    "            \n",
    "            if w == 3:\n",
    "                ax[ilev,j].scatter(ct,pers,alpha=0.5,s=15)\n",
    "                ax[ilev,j].set_xscale('log')\n",
    "                ax[ilev,j].set_yscale('log')\n",
    "                ax[ilev,j].set_title('{:5.1f}'.format(intervals[j])+', '+'{:6.2f}'.format(10**meanlev/80000.) +' x sat.',fontsize=15)\n",
    "                ax[ilev,j].plot(np.array([1,10000]),700*np.array([1,1/10000.]),'--',c='black')\n",
    "                ax[ilev,j].set_ylim(0.011,5)\n",
    "                ax[ilev,j].set_xlim(85,5250)\n",
    "\n",
    "    plt.tight_layout()"
   ]
  }
 ],
 "metadata": {
  "anaconda-cloud": {},
  "kernelspec": {
   "display_name": "Python 3",
   "language": "python",
   "name": "python3"
  },
  "language_info": {
   "codemirror_mode": {
    "name": "ipython",
    "version": 3
   },
   "file_extension": ".py",
   "mimetype": "text/x-python",
   "name": "python",
   "nbconvert_exporter": "python",
   "pygments_lexer": "ipython3",
   "version": "3.5.4"
  }
 },
 "nbformat": 4,
 "nbformat_minor": 1
}
